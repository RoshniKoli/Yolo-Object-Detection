{
 "cells": [
  {
   "cell_type": "code",
   "execution_count": 1,
   "metadata": {},
   "outputs": [],
   "source": [
    "import glob"
   ]
  },
  {
   "cell_type": "code",
   "execution_count": 17,
   "metadata": {},
   "outputs": [],
   "source": [
    "s3_address= '/home/ubuntu/roshnicvdata/train_data/'\n",
    "s3_val_add = '/home/ubuntu/roshnicvdata/val_data/'"
   ]
  },
  {
   "cell_type": "code",
   "execution_count": 3,
   "metadata": {},
   "outputs": [],
   "source": [
    "train_img = glob.glob(r'C:\\Users\\roshn\\Documents\\DataAnalytics\\Springboard\\CV_Fashion_dataset\\train\\train\\image_train\\*.jpg')"
   ]
  },
  {
   "cell_type": "code",
   "execution_count": 14,
   "metadata": {},
   "outputs": [],
   "source": [
    "val_img = glob.glob(r'C:\\Users\\roshn\\Documents\\DataAnalytics\\Springboard\\CV_Fashion_dataset\\validation\\image\\*.jpg')"
   ]
  },
  {
   "cell_type": "code",
   "execution_count": 7,
   "metadata": {},
   "outputs": [],
   "source": [
    "from pathlib import Path\n"
   ]
  },
  {
   "cell_type": "code",
   "execution_count": 13,
   "metadata": {
    "scrolled": true
   },
   "outputs": [],
   "source": [
    "with open('train.txt','w') as file:\n",
    "    for i in  train_img:\n",
    "        st = Path(i).stem\n",
    "        s3 = s3_address+st+'.jpg'\n",
    "        file.write(s3)\n",
    "        file.write('\\n')\n",
    "        "
   ]
  },
  {
   "cell_type": "code",
   "execution_count": 18,
   "metadata": {},
   "outputs": [],
   "source": [
    "with open('test.txt','w') as file:\n",
    "    for i in  val_img:\n",
    "        st = Path(i).stem\n",
    "        s3 = s3_val_add+st+'.jpg'\n",
    "        file.write(s3)\n",
    "        file.write('\\n')"
   ]
  },
  {
   "cell_type": "code",
   "execution_count": 1,
   "metadata": {},
   "outputs": [],
   "source": [
    "import pandas as pd"
   ]
  },
  {
   "cell_type": "code",
   "execution_count": 3,
   "metadata": {},
   "outputs": [],
   "source": [
    "test_path = r'C:\\Users\\roshn\\Documents\\DataAnalytics\\Springboard\\CV_Fashion_dataset\\GUI_And_test_images\\image'"
   ]
  },
  {
   "cell_type": "code",
   "execution_count": 4,
   "metadata": {},
   "outputs": [],
   "source": [
    "test_img_data = pd.read_csv(r'C:\\Users\\roshn\\Documents\\DataAnalytics\\Springboard\\CV_Fashion_dataset\\GUI_And_test_images\\CV fashion test - Sheet1.csv')"
   ]
  },
  {
   "cell_type": "code",
   "execution_count": 8,
   "metadata": {},
   "outputs": [
    {
     "data": {
      "text/html": [
       "<div>\n",
       "<style scoped>\n",
       "    .dataframe tbody tr th:only-of-type {\n",
       "        vertical-align: middle;\n",
       "    }\n",
       "\n",
       "    .dataframe tbody tr th {\n",
       "        vertical-align: top;\n",
       "    }\n",
       "\n",
       "    .dataframe thead th {\n",
       "        text-align: right;\n",
       "    }\n",
       "</style>\n",
       "<table border=\"1\" class=\"dataframe\">\n",
       "  <thead>\n",
       "    <tr style=\"text-align: right;\">\n",
       "      <th></th>\n",
       "      <th>No</th>\n",
       "      <th>cat</th>\n",
       "      <th>full_path</th>\n",
       "    </tr>\n",
       "  </thead>\n",
       "  <tbody>\n",
       "    <tr>\n",
       "      <th>0</th>\n",
       "      <td>000001</td>\n",
       "      <td>long sleeve top</td>\n",
       "      <td>C:\\Users\\roshn\\Documents\\DataAnalytics\\Springb...</td>\n",
       "    </tr>\n",
       "    <tr>\n",
       "      <th>1</th>\n",
       "      <td>000002</td>\n",
       "      <td>short sleeve top</td>\n",
       "      <td>C:\\Users\\roshn\\Documents\\DataAnalytics\\Springb...</td>\n",
       "    </tr>\n",
       "    <tr>\n",
       "      <th>2</th>\n",
       "      <td>000003</td>\n",
       "      <td>short sleeve dress</td>\n",
       "      <td>C:\\Users\\roshn\\Documents\\DataAnalytics\\Springb...</td>\n",
       "    </tr>\n",
       "    <tr>\n",
       "      <th>3</th>\n",
       "      <td>000004</td>\n",
       "      <td>short sleeve dress</td>\n",
       "      <td>C:\\Users\\roshn\\Documents\\DataAnalytics\\Springb...</td>\n",
       "    </tr>\n",
       "    <tr>\n",
       "      <th>4</th>\n",
       "      <td>000005</td>\n",
       "      <td>long sleeve top</td>\n",
       "      <td>C:\\Users\\roshn\\Documents\\DataAnalytics\\Springb...</td>\n",
       "    </tr>\n",
       "  </tbody>\n",
       "</table>\n",
       "</div>"
      ],
      "text/plain": [
       "       No                 cat  \\\n",
       "0  000001     long sleeve top   \n",
       "1  000002    short sleeve top   \n",
       "2  000003  short sleeve dress   \n",
       "3  000004  short sleeve dress   \n",
       "4  000005     long sleeve top   \n",
       "\n",
       "                                           full_path  \n",
       "0  C:\\Users\\roshn\\Documents\\DataAnalytics\\Springb...  \n",
       "1  C:\\Users\\roshn\\Documents\\DataAnalytics\\Springb...  \n",
       "2  C:\\Users\\roshn\\Documents\\DataAnalytics\\Springb...  \n",
       "3  C:\\Users\\roshn\\Documents\\DataAnalytics\\Springb...  \n",
       "4  C:\\Users\\roshn\\Documents\\DataAnalytics\\Springb...  "
      ]
     },
     "execution_count": 8,
     "metadata": {},
     "output_type": "execute_result"
    }
   ],
   "source": [
    "test_img_data.head()"
   ]
  },
  {
   "cell_type": "code",
   "execution_count": 19,
   "metadata": {},
   "outputs": [],
   "source": [
    "test_img_data['full_path'] = test_img_data['No'].apply(lambda x : test_path+'\\\\'+x+'.jpg')"
   ]
  },
  {
   "cell_type": "code",
   "execution_count": 20,
   "metadata": {},
   "outputs": [
    {
     "data": {
      "text/plain": [
       "0    C:\\Users\\roshn\\Documents\\DataAnalytics\\Springb...\n",
       "1    C:\\Users\\roshn\\Documents\\DataAnalytics\\Springb...\n",
       "2    C:\\Users\\roshn\\Documents\\DataAnalytics\\Springb...\n",
       "3    C:\\Users\\roshn\\Documents\\DataAnalytics\\Springb...\n",
       "4    C:\\Users\\roshn\\Documents\\DataAnalytics\\Springb...\n",
       "Name: full_path, dtype: object"
      ]
     },
     "execution_count": 20,
     "metadata": {},
     "output_type": "execute_result"
    }
   ],
   "source": [
    "test_img_data['full_path'].head()"
   ]
  },
  {
   "cell_type": "code",
   "execution_count": 21,
   "metadata": {},
   "outputs": [],
   "source": [
    "with open('test_cv.txt','w') as file:\n",
    "    for i in test_img_data['full_path']:\n",
    "        file.write(i)\n",
    "        file.write('\\n')"
   ]
  },
  {
   "cell_type": "code",
   "execution_count": 23,
   "metadata": {},
   "outputs": [],
   "source": [
    "test_img_data.to_csv('test_csv_path')"
   ]
  },
  {
   "cell_type": "markdown",
   "metadata": {},
   "source": [
    "#### Creating test.txt and train.txt to check map score"
   ]
  },
  {
   "cell_type": "code",
   "execution_count": 1,
   "metadata": {},
   "outputs": [],
   "source": [
    "import glob\n",
    "train_files = glob.glob(r'C:\\Users\\roshn\\Documents\\DataAnalytics\\Springboard\\CV_Fashion_dataset\\train\\train\\image_train\\*.jpg')\n",
    "with open('train_map.txt','w') as file:\n",
    "    for i in  train_files:\n",
    "        file.write(i)\n",
    "        file.write('\\n')"
   ]
  },
  {
   "cell_type": "code",
   "execution_count": 2,
   "metadata": {},
   "outputs": [],
   "source": [
    "val_files = glob.glob(r'C:\\Users\\roshn\\Documents\\DataAnalytics\\Springboard\\CV_Fashion_dataset\\validation\\image\\*.jpg')\n",
    "with open('test_map.txt','w') as file:\n",
    "    for i in  train_files:\n",
    "        file.write(i)\n",
    "        file.write('\\n')"
   ]
  },
  {
   "cell_type": "code",
   "execution_count": null,
   "metadata": {},
   "outputs": [],
   "source": []
  }
 ],
 "metadata": {
  "kernelspec": {
   "display_name": "Python 3",
   "language": "python",
   "name": "python3"
  },
  "language_info": {
   "codemirror_mode": {
    "name": "ipython",
    "version": 3
   },
   "file_extension": ".py",
   "mimetype": "text/x-python",
   "name": "python",
   "nbconvert_exporter": "python",
   "pygments_lexer": "ipython3",
   "version": "3.7.1"
  }
 },
 "nbformat": 4,
 "nbformat_minor": 4
}
